{
 "cells": [
  {
   "cell_type": "code",
   "execution_count": 5,
   "metadata": {},
   "outputs": [
    {
     "name": "stdout",
     "output_type": "stream",
     "text": [
      "The value of dictionary res is:{'name': 'Sanjay', 'Domain_name': 'BlogApplication', 'Reg_no': '234572'}\n"
     ]
    }
   ],
   "source": [
    "# Write a function in Python with a string such that it accepts a parameter- “stringsplit”. This encoded string will contain your name, domain name and register number. You can separate the values in the string by any number of underscores. [The string should not contain any other underscore symbols in your name, domain name and register number]. The function should return a Python dictionary with your name, domain name and register number.\n",
    "# For example, if the input would be \" Aaron___Googleplaystore____2347201”. Then the function should return the output as follows:\n",
    "# { \"name\": \" Aaron \",\n",
    "# \"Domain_name\": \" Googleplaystore \",\n",
    "# \"Regno\": \"2347201\" }\n",
    "\n",
    "tempVar = input(\"Enter your name ,domain name, And Reg.no \")\n",
    "    \n",
    "tempDict = {\n",
    "    \"name\": \"\",\n",
    "    \"Domain_name\": \"\",\n",
    "    \"Reg_no\": \"\",\n",
    "}\n",
    "\n",
    "\n",
    "res = dict(zip(tempDict,tempVar.split(\"__\")))\n",
    "\n",
    "print(\"The value of dictionary res is:\"+str(res))\n",
    "\n"
   ]
  },
  {
   "cell_type": "code",
   "execution_count": 14,
   "metadata": {},
   "outputs": [
    {
     "name": "stdout",
     "output_type": "stream",
     "text": [
      "Title: Simple Text Post\n",
      "Content: This is a basic text post.\n",
      "Comments: Interesting!\n",
      "==============================\n",
      "Title: Simple Image Post\n",
      "Content: This is a simple image post.\n",
      "Comments: Beautiful image!\n",
      "==============================\n",
      "Image URL: image.jpg\n",
      "Title: Simple Featured Post\n",
      "Content: This is a simple featured post.\n",
      "Comments: Awesome featured post!\n",
      "==============================\n",
      "Image URL: featured.jpg\n",
      "Featured Text: Check it out!\n",
      "Commenter: User123\n",
      "Title: Comment\n",
      "Content: Nice post!\n",
      "==============================\n"
     ]
    }
   ],
   "source": [
    "# Write a Python program to implement the object-oriented concepts of multiple, Multilevel and Hierarchical Inheritances using your domain applications.\n",
    "class Post:\n",
    "    def __init__(self, title, content):\n",
    "        self.title = title\n",
    "        self.content = content\n",
    "        self.comments = []\n",
    "\n",
    "    def add_comment(self, comment):\n",
    "        self.comments.append(comment)\n",
    "\n",
    "    def display(self):\n",
    "        print(\"Title:\", self.title)\n",
    "        print(\"Content:\", self.content)\n",
    "        if self.comments:\n",
    "            print(\"Comments:\", ', '.join(self.comments))\n",
    "        print(\"=\" * 30)\n",
    "\n",
    "\n",
    "class TextPost(Post):\n",
    "    pass\n",
    "\n",
    "\n",
    "class ImagePost(Post):\n",
    "    def __init__(self, title, content, image_url):\n",
    "        super().__init__(title, content)\n",
    "        self.image_url = image_url\n",
    "\n",
    "    def display(self):\n",
    "        super().display()\n",
    "        print(\"Image URL:\", self.image_url)\n",
    "\n",
    "\n",
    "class FeaturedPost(TextPost, ImagePost):\n",
    "    def __init__(self, title, content, image_url, featured_text):\n",
    "        TextPost.__init__(self, title, content)\n",
    "        ImagePost.__init__(self, title, content, image_url)\n",
    "        self.featured_text = featured_text\n",
    "\n",
    "    def display(self):\n",
    "        super().display()\n",
    "        print(\"Featured Text:\", self.featured_text)\n",
    "\n",
    "\n",
    "class Comment(Post):\n",
    "    def __init__(self, commenter, comment_text):\n",
    "        super().__init__(\"Comment\", comment_text)\n",
    "        self.commenter = commenter\n",
    "\n",
    "    def display(self):\n",
    "        print(\"Commenter:\", self.commenter)\n",
    "        super().display()\n",
    "\n",
    "\n",
    "# Usage\n",
    "text_post = TextPost(\"Simple Text Post\", \"This is a basic text post.\")\n",
    "image_post = ImagePost(\"Simple Image Post\", \"This is a simple image post.\", \"image.jpg\")\n",
    "featured_post = FeaturedPost(\"Simple Featured Post\", \"This is a simple featured post.\", \"featured.jpg\", \"Check it out!\")\n",
    "comment = Comment(\"User123\", \"Nice post!\")\n",
    "\n",
    "text_post.add_comment(\"Interesting!\")\n",
    "image_post.add_comment(\"Beautiful image!\")\n",
    "featured_post.add_comment(\"Awesome featured post!\")\n",
    "\n",
    "text_post.display()\n",
    "image_post.display()\n",
    "featured_post.display()\n",
    "comment.display()\n",
    "\n"
   ]
  }
 ],
 "metadata": {
  "kernelspec": {
   "display_name": "Python 3",
   "language": "python",
   "name": "python3"
  },
  "language_info": {
   "codemirror_mode": {
    "name": "ipython",
    "version": 3
   },
   "file_extension": ".py",
   "mimetype": "text/x-python",
   "name": "python",
   "nbconvert_exporter": "python",
   "pygments_lexer": "ipython3",
   "version": "3.11.4"
  },
  "orig_nbformat": 4
 },
 "nbformat": 4,
 "nbformat_minor": 2
}
